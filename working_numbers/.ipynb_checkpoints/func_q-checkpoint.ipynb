{
 "cells": [
  {
   "cell_type": "code",
   "execution_count": null,
   "metadata": {},
   "outputs": [],
   "source": [
    "'''\n",
    "Fracction calculator\n",
    "'''\n",
    "\n",
    "from fractions import Fraction\n",
    "\n",
    "def add(a, b):\n",
    "    print('Result of Addition: {0}'.format(a+b))\n",
    "\n",
    "def subtract(a, b):\n",
    "    print('Result of Subtracction: {0}'.format(a-b))\n",
    "\n",
    "def multiply(a, b):\n",
    "    print('Result of Multiplication: {0}'.format(a*b))\n",
    "\n",
    "def divide(a, b):\n",
    "    print('Result of Division: {0}'.format(a/b))\n",
    "\n",
    "\n",
    "if __name__ == '__main__':\n",
    "    a = Fraction(input('Enter first fraction (a/b): '))\n",
    "    b = Fraction(input('Enter second fraction (a/b): '))\n",
    "    op = input('Operation to perform - 1: Add, 2: Subtract, 4: Divide, 3: Multiply: ')\n",
    "    if op == '1':\n",
    "        add(a,b)\n",
    "    elif op == '2':\n",
    "        subtract(a,b)\n",
    "    elif op == '3':\n",
    "        multiply(a,b)\n",
    "    elif op == '4':\n",
    "        divide(a,b)\n",
    "    else:\n",
    "        print('Entrar el nombre de operació correcte')\n"
   ]
  },
  {
   "cell_type": "code",
   "execution_count": null,
   "metadata": {},
   "outputs": [],
   "source": []
  }
 ],
 "metadata": {
  "kernelspec": {
   "display_name": "Python 3",
   "language": "python",
   "name": "python3"
  },
  "language_info": {
   "codemirror_mode": {
    "name": "ipython",
    "version": 3
   },
   "file_extension": ".py",
   "mimetype": "text/x-python",
   "name": "python",
   "nbconvert_exporter": "python",
   "pygments_lexer": "ipython3",
   "version": "3.7.6"
  }
 },
 "nbformat": 4,
 "nbformat_minor": 4
}
